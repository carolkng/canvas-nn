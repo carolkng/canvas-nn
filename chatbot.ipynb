{
 "cells": [
  {
   "cell_type": "markdown",
   "metadata": {},
   "source": [
    "## Canvas Learning chatbot\n",
    "\n",
    "Welcome! This is ... Important things:\n",
    "- Every line of code here is processed either on the machine you're using to host this notebook.\n",
    "- you may choose to export any of the data from this notebook wherever you choose\n",
    "- Chatbot logs are not persisted (in a file sense), and will disappear when you stop the notebook\n",
    "    - Stretch goal: make them persistable?\n",
    "    \n",
    "The goal of putting this in a notebook is to ensure that the handling of your data is as transparent as possible. Please read through the entirety of the notebook before consenting to give this notebook your token. Ask questions! Make noise! Submit issues!"
   ]
  },
  {
   "cell_type": "code",
   "execution_count": 39,
   "metadata": {},
   "outputs": [
    {
     "name": "stdout",
     "output_type": "stream",
     "text": [
      "Do you understand that your access token will give this app\n",
      "permission to use/delete any of your info on Canvas? (yes to continue)\n",
      "yes\n",
      "Enter your access token here: ········\n"
     ]
    }
   ],
   "source": [
    "import getpass\n",
    "\n",
    "print(\"Do you understand that your access token will give this app\")\n",
    "print(\"permission to use/delete any of your info on Canvas? (yes to continue)\")\n",
    "\n",
    "consent = input()\n",
    "\n",
    "while consent != \"yes\":\n",
    "    consent = input()\n",
    "\n",
    "token = getpass.getpass(\"Enter your access token here: \")"
   ]
  },
  {
   "cell_type": "code",
   "execution_count": 99,
   "metadata": {},
   "outputs": [],
   "source": [
    "# Convenience methods\n",
    "\n",
    "def api(path):\n",
    "    '''Returns the Canvas API url for the slash-prefixed path'''\n",
    "    BASE_URL = \"https://canvas.ubc.ca\"\n",
    "    BASE_PATH = \"/api/v1\"\n",
    "    return BASE_URL + BASE_PATH + path\n",
    "\n",
    "def r_get(**kwargs):\n",
    "    '''Convenience method to grab stuff\n",
    "    Input { key1: param1, key2: param2 }\n",
    "    Output: data from api(/key1/param1/key2/param2)'''\n",
    "    path = \"/\"\n",
    "    params = {}\n",
    "    \n",
    "    for name, value in kwargs.items():\n",
    "        if name == \"params\":\n",
    "            params = value\n",
    "            continue\n",
    "            \n",
    "        path += str(name) + \"/\"\n",
    "        if not value:\n",
    "            break\n",
    "        else:\n",
    "            path += str(value) + \"/\"\n",
    "            \n",
    "    print(\"Requesting value at <%s>\" % api(path))\n",
    "    return requests.get(api(path), headers=headers, params=params)"
   ]
  },
  {
   "cell_type": "code",
   "execution_count": 135,
   "metadata": {},
   "outputs": [],
   "source": [
    "# Setup requests. Pull course data\n",
    "\n",
    "import requests\n",
    "\n",
    "headers = {\"Authorization\": \"Bearer \" + token}\n",
    "\n",
    "r = requests.get(api(\"/courses\"), headers=headers)\n",
    "\n",
    "courses = r.json()"
   ]
  },
  {
   "cell_type": "code",
   "execution_count": 136,
   "metadata": {},
   "outputs": [
    {
     "name": "stdout",
     "output_type": "stream",
     "text": [
      "Which course would you like to get help for? ([xx])\n",
      "[0] APSC 450 101 Professional Engineering Practice\n",
      "[1] Canvas API Hackathon 🤖\n",
      "[2] CIVL 250 99A Engineering and Sustainable Development\n",
      "[3] CPSC 259 101 Data Structures and Algorithms for Electrical Engineers\n",
      "[4] MECH 326 Mechanical Design II\n",
      "4\n",
      "MECH 326 Mechanical Design II it is!\n"
     ]
    }
   ],
   "source": [
    "print(\"Which course would you like to get help for? ([xx])\")\n",
    "i = 0\n",
    "scanned_courses = []\n",
    "for c in courses:\n",
    "    if \"name\" in c.keys():\n",
    "        print(\"[%s] %s\" % (i, c[\"name\"]))\n",
    "        scanned_courses.append(c)\n",
    "        i += 1\n",
    "\n",
    "index = int(input())\n",
    "course = scanned_courses[index]\n",
    "print(course['name'] + \" it is!\")"
   ]
  },
  {
   "cell_type": "code",
   "execution_count": 157,
   "metadata": {},
   "outputs": [],
   "source": [
    "# Index the material in the course\n",
    "r = requests.get(api(\"/courses/\" + str(course['id']) + \"/modules\"), headers=headers)\n",
    "modules = r.json()\n",
    "\n",
    "# List of all item urls\n",
    "module_item_urls = [m['items_url'] for m in modules]\n",
    "\n",
    "# Items in each module\n",
    "modules_items = [requests.get(url, headers=headers).json() for url in module_item_urls]"
   ]
  },
  {
   "cell_type": "code",
   "execution_count": 162,
   "metadata": {},
   "outputs": [
    {
     "data": {
      "text/plain": [
       "['https://canvas.ubc.ca/courses/14709/modules/items/846154',\n",
       " 'https://canvas.ubc.ca/courses/14709/modules/items/860937',\n",
       " 'https://canvas.ubc.ca/courses/14709/modules/items/846153']"
      ]
     },
     "execution_count": 162,
     "metadata": {},
     "output_type": "execute_result"
    }
   ],
   "source": [
    "modules_htmls = []\n",
    "for module_items in modules_items:\n",
    "    module_htmls = [module_item['html_url'] for module_item in module_items if 'html_url' in module_item.keys()]\n",
    "    modules_htmls.append(module_htmls)\n",
    "\n",
    "module_htmls"
   ]
  },
  {
   "cell_type": "code",
   "execution_count": 166,
   "metadata": {},
   "outputs": [
    {
     "data": {
      "text/plain": [
       "<Response [200]>"
      ]
     },
     "execution_count": 166,
     "metadata": {},
     "output_type": "execute_result"
    }
   ],
   "source": [
    "r = requests.get(module_htmls[0], headers=headers)\n",
    "r"
   ]
  },
  {
   "cell_type": "code",
   "execution_count": 167,
   "metadata": {},
   "outputs": [
    {
     "data": {
      "text/plain": [
       "'<!-- UBCIT Communication -->\\n<!DOCTYPE html>\\n<html>\\n        <head>\\n\\t\\t<meta http-equiv=\"Content-Type\" content=\"text/html; charset=UTF-8\">\\n        <meta charset=\"utf-8\">\\n        <meta name=\"viewport\" content=\"width=device-width, initial-scale=1.0\">\\n\\t\\t<meta name=\"description\">\\n\\t\\t<meta name=\"author\">\\n\\t\\t<title>The University of British Columbia</title>\\n        <link rel=\"stylesheet\" type=\"text/css\" href=\"/idp/css/main.css\">\\n        <link rel=\"stylesheet\" type=\"text/css\" href=\"/idp/css/ubc-clf-full.css\">\\n        <link rel=\"stylesheet\" type=\"text/css\" href=\"/idp/css/unit.css\">\\t\\n\\t\\t<!--[if lte IE 7]>\\n    \\t<link href=\"/idp/css/font-awesome-ie7.css\" rel=\"stylesheet\" />\\n\\t\\t<![endif]-->\\n\\t\\t<!--[if lt IE 9]>\\n    \\t  <script src=\"/idp/scripts/html5.js\"></script>\\n\\t\\t<![endif]-->\\n\\t\\t<!-- Fav and touch icons -->\\n\\t\\t<link rel=\"shortcut icon\" href=\"/idp/images/favicon.ico\">\\n\\t\\t<link href=\"/idp/images/apple-touch-icon-144-precomposed.png\" sizes=\"144x144\">\\n\\t\\t<link href=\"/idp/images/apple-touch-icon-114-precomposed.png\" sizes=\"114x114\">\\n\\t\\t<link href=\"/idp/images/apple-touch-icon-72-precomposed.png\" sizes=\"72x72\">\\n\\t\\t<link href=\"/idp/images/apple-touch-icon-57-precomposed.png\">\\n        </head>\\n\\t\\n\\t\\t<body class=\"full-width\">\\n\\n<!-- Begin UBC Header -->\\n\\t\\t<header id=\"ubc7-header\" class=\"row-fluid expand\">\\n\\n<script language=\"Javascript\">\\n \\n$(document).ready(function() {\\n \\n\\t$(\\'#password-clear\\').show();\\n\\t$(\\'#password-password\\').hide();\\n \\n\\t$(\\'#password-clear\\').focus(function() {\\n\\t\\t$(\\'#password-clear\\').hide();\\n\\t\\t$(\\'#password-password\\').show();\\n\\t\\t$(\\'#password-password\\').focus();\\n\\t});\\n\\t$(\\'#password-password\\').blur(function() {\\n\\t\\tif($(\\'#password-password\\').val() == \\'\\') {\\n\\t\\t\\t$(\\'#password-clear\\').show();\\n\\t\\t\\t$(\\'#password-password\\').hide();\\n\\t\\t}\\n\\t});\\n \\n\\t$(\\'.default-value\\').each(function() {\\n\\t\\tvar default_value = this.value;\\n\\t\\t$(this).focus(function() {\\n\\t\\t\\tif(this.value == default_value) {\\n\\t\\t\\t\\tthis.value = \\'\\';\\n\\t\\t\\t}\\n\\t\\t});\\n\\t\\t$(this).blur(function() {\\n\\t\\t\\tif(this.value == \\'\\') {\\n\\t\\t\\t\\tthis.value = default_value;\\n\\t\\t\\t}\\n\\t\\t});\\n\\t});\\n \\n});\\n \\n</script>\\n\\n\\t\\t  <div class=\"container\">\\n\\t\\t    <div class=\"span1\">\\n\\t\\t      <div id=\"ubc7-logo\"> <a href=\"http://www.ubc.ca/\">The University of British Columbia</a> </div>\\n\\t\\t    </div>\\n\\t\\t    <div class=\"span2\">\\n\\t\\t      <div id=\"ubc7-apom\"> <a href=\"http://www.ubc.ca\">UBC</a> </div>\\n\\t\\t    </div>\\n\\t\\t    <div class=\"span9\" id=\"ubc7-wordmark-block\">\\n\\t\\t      <div id=\"ubc7-wordmark\"> <a href=\"http://www.ubc.ca/\">The University of British Columbia</a> </div>\\n\\t\\t    </div>\\n\\t\\t  </div>\\n\\t\\t</header>\\n<!-- End of UBC Header -->\\n   \\n\\n\\n<!-- Begin content area -->\\n\\t\\t<div class=\"full-width-container\"> \\t\\t  \\n\\t\\t  <div id=\"content\">\\n\\t\\t    <div class=\"content expand\">\\n\\t\\t      <div class=\"row\">\\n\\t\\t        <div id=\"flexContainer\" class=\"clearfix\">\\n\\t\\t\\t\\t\\n          <h1>CWL Authentication</h1>\\n          \\n                            <p class=\"SvcName\">\\n                           Login to continue to                           <span> <a href=\"https://about.canvas.ubc.ca/\">UBC Canvas</a></span>\\n                  </p>\\n             \\n\\n          <div id=\"col2\">\\n            \\n\\t\\t\\t\\t\\t\\n            <form action=\"/idp/profile/SAML2/Redirect/SSO;jsessionid=1CB5BCA53BBB5036B9B91DDF3CC210F3?execution=e1s1\" method=\"post\">\\n\\n                          <div class=\"form-group\">\\n                <label for=\"username\">Login Name</label>\\n                <input class=\"form-element\" id=\"username\" name=\"j_username\" type=\"text\" placeholder=\"\"\\n                        value=\"\" autofocus=\"autofocus\">\\n              </div>\\n\\n              <div class=\"form-group\">\\n                <label for=\"password\">Password</label>\\n                <input class=\"form-element\" id=\"password\" name=\"j_password\" type=\"password\" placeholder=\"\" value=\"\">\\n              </div>\\n\\t\\t\\t  \\n\\t\\t\\t  \\n\\t\\t              \\n            \\t\\t\\t\\n\\t\\t\\t \\n\\n            \\t\\t\\t\\n              <div>\\n                <button class=\"ui-button ui-widget ui-state-default ui-corner-all ui-button-text-only btn\" type=\"submit\" name=\"_eventId_proceed\"\\n                    onClick=\"this.childNodes[0].nodeValue=\\'Logging in, please wait...\\'\"\\n                    >Login</button>\\n              </div>\\n\\t\\t\\t  \\n            \\n                        </form>\\n        </div>  \\n\\n\\n\\t\\t<div id=\"col1\">                 \\n\\t\\t\\t<div class=\"alert\">\\n              \\t<p><strong>Recover your CWL login or Reset your CWL password via Email</strong></p>\\n              \\t<p>If you have a non-UBC email address associated with your CWL account you can either: </p>\\n              <ul>\\n                <li><a href=\"https://www.myaccount.ubc.ca/myAccount/forgot/forgotLogin.xhtml\" target=\"_blank\">Recover your CWL Login Name</a></li>\\n                <li><a href=\"https://www.myaccount.ubc.ca/myAccount/forgot/forgotPassword.xhtml\" target=\"_blank\">Reset your CWL Password</a></li>\\n              </ul>\\n              <div style=\"width:100%; background:#98B2C3; height:1px; margin:1.5em 0;\"></div>\\n\\n              <p><strong>Protect Your CWL account!</strong></p>\\n              <ul>\\n                <li>Watch out for sites or emails that <a href=\"https://www.it.ubc.ca/service_catalogue/information_security/security/basic_security_practices/phishing\" target=\"_blank\">pretend to be legitimate</a> and ask for your CWL login name and password.</li>\\n                <li>Please <a href=\"mailto:security@ubc.ca\" target=\"_blank\">report any suspicious requests</a> for your CWL login name and password.</li>\\n                <li><a href=\"https://privacymatters.ubc.ca/\" target=\"_blank\">Learn more</a> about how to protect your devices.</li>\\n              </ul>\\n           </div>\\n\\t\\t<div class=\"accordion\" id=\"accordion1\">\\n\\t\\t\\t<div> <a data-toggle=\"collapse\" data-parent=\"#accordion1\" href=\"#collapseOne\">Learn about the CWL Terms of Use  »</a> </div>\\n\\t\\t\\t<div id=\"collapseOne\" class=\"accordion-body collapse\">\\n                <p>Your use of Campus-Wide Login (CWL) services and all other computing and communications services and facilities is subject to UBC\\'s policies, requirements and guidelines as may be amended by UBC from time to time, including without limitation, <a href=\"http://universitycounsel.ubc.ca/policies/policy104.pdf\" target=\"_blank\">Policy 104 - Acceptable Use and Security of UBC Electronic Information and Systems</a> and the <a href=\"http://copyright.ubc.ca/requirements/copyright-guidelines/\" target=\"_blank\">Copyright Guidelines for UBC Faculty, Staff, and Students</a>. <a href=\"http://copyright.ubc.ca/cwl-whats-this/\" target=\"_blank\">What is this?</a></p>\\n\\t\\t\\t</div>\\n\\t\\t\\t</div>                               \\n\\t\\t </div>\\n       \\n\\t\\t        </div>\\n\\t\\t      </div>\\n\\t\\t    </div>\\n\\t\\t  </div>\\n\\t\\t</div>\\n<!-- end content area --> \\n\\n        \\n<!-- Begin Footer -->\\n\\t\\t<div class=\"row-fluid expand\" id=\"ubc7-minimal-footer\">\\n\\t\\t  <div class=\"container\">\\n\\t\\t    <div class=\"span12\">\\n\\t\\t      <ul>\\n\\t\\t        <li><a href=\"http://cdn.ubc.ca/clf/ref/terms\">Terms of Use</a> <span class=\"divider\">|</span></li>\\n\\t\\t        <li><a href=\"http://cdn.ubc.ca/clf/ref/copyright\">Copyright</a> <span class=\"divider\">|</span></li>\\n\\t\\t        <li><a href=\"http://cdn.ubc.ca/clf/ref/accessibility\">Accessibility</a> <span class=\"divider\">|</span></li>\\n\\t\\t        <li><a href=\"https://www.cwl.ubc.ca/SignUp\">Create CWL Account</a> <span class=\"divider\">|</span></li>\\n\\t\\t        <li><a href=\"http://it.ubc.ca/support\">Need Help?</a></li>\\n\\t\\t      </ul>\\n\\t\\t    </div>\\n\\t\\t  </div>\\n\\t\\t</div>\\n<!-- End of Footer --> \\n\\n<!-- Placed javascript at the end for faster loading --> \\n<script src=\"/idp/scripts/jquery.js\"></script> \\n<script src=\"/idp/scripts/ubc-clf.js\"></script>\\n\\n\\n\\t</body>\\n \\n</html>\\n'"
      ]
     },
     "execution_count": 167,
     "metadata": {},
     "output_type": "execute_result"
    }
   ],
   "source": [
    "r.text"
   ]
  },
  {
   "cell_type": "code",
   "execution_count": 163,
   "metadata": {},
   "outputs": [
    {
     "ename": "NameError",
     "evalue": "name 'html_doc' is not defined",
     "output_type": "error",
     "traceback": [
      "\u001b[0;31m---------------------------------------------------------------------------\u001b[0m",
      "\u001b[0;31mNameError\u001b[0m                                 Traceback (most recent call last)",
      "\u001b[0;32m<ipython-input-163-11f369478349>\u001b[0m in \u001b[0;36m<module>\u001b[0;34m()\u001b[0m\n\u001b[1;32m      1\u001b[0m \u001b[0;32mfrom\u001b[0m \u001b[0mbs4\u001b[0m \u001b[0;32mimport\u001b[0m \u001b[0mBeautifulSoup\u001b[0m\u001b[0;34m\u001b[0m\u001b[0m\n\u001b[0;32m----> 2\u001b[0;31m \u001b[0msoup\u001b[0m \u001b[0;34m=\u001b[0m \u001b[0mBeautifulSoup\u001b[0m\u001b[0;34m(\u001b[0m\u001b[0mhtml_doc\u001b[0m\u001b[0;34m,\u001b[0m \u001b[0;34m'html.parser'\u001b[0m\u001b[0;34m)\u001b[0m\u001b[0;34m\u001b[0m\u001b[0m\n\u001b[0m",
      "\u001b[0;31mNameError\u001b[0m: name 'html_doc' is not defined"
     ]
    }
   ],
   "source": [
    "from bs4 import BeautifulSoup\n",
    "soup = BeautifulSoup(html_doc, 'html.parser')\n"
   ]
  },
  {
   "cell_type": "code",
   "execution_count": 118,
   "metadata": {},
   "outputs": [],
   "source": [
    "module_ids = [m['id'] for m in modules]\n",
    "\n",
    "r = requests.get(api(\"/courses/%s/modules/%s\" % \n",
    "                    (str(course['id']), str(module_ids[0]))),\n",
    "                headers=headers)"
   ]
  },
  {
   "cell_type": "code",
   "execution_count": 126,
   "metadata": {},
   "outputs": [
    {
     "name": "stdout",
     "output_type": "stream",
     "text": [
      "Requesting value at <https://canvas.ubc.ca/api/v1/courses/14709/modules/81996/items/>\n",
      "Requesting value at <https://canvas.ubc.ca/api/v1/courses/14709/modules/81996/items/768167/>\n",
      "Requesting value at <https://canvas.ubc.ca/api/v1/courses/14709/modules/81996/items/768106/>\n",
      "Requesting value at <https://canvas.ubc.ca/api/v1/courses/14709/modules/81996/items/774277/>\n",
      "Requesting value at <https://canvas.ubc.ca/api/v1/courses/14709/modules/81996/items/789236/>\n",
      "Requesting value at <https://canvas.ubc.ca/api/v1/courses/14709/modules/81996/items/789292/>\n",
      "Requesting value at <https://canvas.ubc.ca/api/v1/courses/14709/modules/81996/items/768168/>\n",
      "Requesting value at <https://canvas.ubc.ca/api/v1/courses/14709/modules/81996/items/774447/>\n",
      "Requesting value at <https://canvas.ubc.ca/api/v1/courses/14709/modules/81996/items/774448/>\n",
      "Requesting value at <https://canvas.ubc.ca/api/v1/courses/14709/modules/81996/items/774449/>\n",
      "Requesting value at <https://canvas.ubc.ca/api/v1/courses/14709/modules/81996/items/774450/>\n"
     ]
    },
    {
     "ename": "AttributeError",
     "evalue": "'list' object has no attribute 'json'",
     "output_type": "error",
     "traceback": [
      "\u001b[0;31m---------------------------------------------------------------------------\u001b[0m",
      "\u001b[0;31mAttributeError\u001b[0m                            Traceback (most recent call last)",
      "\u001b[0;32m<ipython-input-126-e6556af22e01>\u001b[0m in \u001b[0;36m<module>\u001b[0;34m()\u001b[0m\n\u001b[1;32m     12\u001b[0m            \u001b[0mmodules\u001b[0m\u001b[0;34m=\u001b[0m\u001b[0mmodule_ids\u001b[0m\u001b[0;34m[\u001b[0m\u001b[0;36m0\u001b[0m\u001b[0;34m]\u001b[0m\u001b[0;34m,\u001b[0m\u001b[0;34m\u001b[0m\u001b[0m\n\u001b[1;32m     13\u001b[0m            items=i).json() for i in item_ids]\n\u001b[0;32m---> 14\u001b[0;31m \u001b[0mr2\u001b[0m\u001b[0;34m.\u001b[0m\u001b[0mjson\u001b[0m\u001b[0;34m(\u001b[0m\u001b[0;34m)\u001b[0m\u001b[0;34m\u001b[0m\u001b[0m\n\u001b[0m\u001b[1;32m     15\u001b[0m \u001b[0;31m#requests.get(r.json()['items_url'], headers=headers).json()\u001b[0m\u001b[0;34m\u001b[0m\u001b[0;34m\u001b[0m\u001b[0m\n",
      "\u001b[0;31mAttributeError\u001b[0m: 'list' object has no attribute 'json'"
     ]
    }
   ],
   "source": [
    "# r1 = r_get(courses=course['id'], \n",
    "#            modules=module_ids[0], \n",
    "#            items=590803, \n",
    "#            params={})\n",
    "# r1.json()\n",
    "items = r_get(courses=course['id'],\n",
    "             modules=module_ids[0],\n",
    "             items=None).json()\n",
    "item_ids = [i['id'] for i in items]\n",
    "\n",
    "r2 = [r_get(courses=course['id'], \n",
    "           modules=module_ids[0], \n",
    "           items=i).json() for i in item_ids]\n",
    "\n",
    "#requests.get(r.json()['items_url'], headers=headers).json()"
   ]
  },
  {
   "cell_type": "code",
   "execution_count": 127,
   "metadata": {},
   "outputs": [
    {
     "data": {
      "text/plain": [
       "[{'id': 768167,\n",
       "  'title': 'Pre-tutorial videos',\n",
       "  'position': 1,\n",
       "  'indent': 0,\n",
       "  'type': 'SubHeader',\n",
       "  'module_id': 81996},\n",
       " {'id': 768106,\n",
       "  'title': 'Pre-tutorial Video 0-1',\n",
       "  'position': 2,\n",
       "  'indent': 0,\n",
       "  'type': 'Assignment',\n",
       "  'module_id': 81996,\n",
       "  'html_url': 'https://canvas.ubc.ca/courses/14709/modules/items/768106',\n",
       "  'content_id': 220340,\n",
       "  'url': 'https://canvas.ubc.ca/api/v1/courses/14709/assignments/220340'},\n",
       " {'id': 774277,\n",
       "  'title': 'Pre-tutorial Video 0-2',\n",
       "  'position': 3,\n",
       "  'indent': 0,\n",
       "  'type': 'Assignment',\n",
       "  'module_id': 81996,\n",
       "  'html_url': 'https://canvas.ubc.ca/courses/14709/modules/items/774277',\n",
       "  'content_id': 223784,\n",
       "  'url': 'https://canvas.ubc.ca/api/v1/courses/14709/assignments/223784'},\n",
       " {'id': 789236,\n",
       "  'title': 'Pre-tutorial Video 0-3',\n",
       "  'position': 4,\n",
       "  'indent': 0,\n",
       "  'type': 'Assignment',\n",
       "  'module_id': 81996,\n",
       "  'html_url': 'https://canvas.ubc.ca/courses/14709/modules/items/789236',\n",
       "  'content_id': 227632,\n",
       "  'url': 'https://canvas.ubc.ca/api/v1/courses/14709/assignments/227632'},\n",
       " {'id': 789292,\n",
       "  'title': 'Pre-tutorial Video 0-4',\n",
       "  'position': 5,\n",
       "  'indent': 0,\n",
       "  'type': 'Assignment',\n",
       "  'module_id': 81996,\n",
       "  'html_url': 'https://canvas.ubc.ca/courses/14709/modules/items/789292',\n",
       "  'content_id': 227662,\n",
       "  'url': 'https://canvas.ubc.ca/api/v1/courses/14709/assignments/227662'},\n",
       " {'id': 768168,\n",
       "  'title': 'Tutorial instructions',\n",
       "  'position': 6,\n",
       "  'indent': 0,\n",
       "  'type': 'SubHeader',\n",
       "  'module_id': 81996},\n",
       " {'id': 774447,\n",
       "  'title': '326-tut-0-1-review of loads, reactions, and stresses.pdf',\n",
       "  'position': 7,\n",
       "  'indent': 0,\n",
       "  'type': 'File',\n",
       "  'module_id': 81996,\n",
       "  'html_url': 'https://canvas.ubc.ca/courses/14709/modules/items/774447',\n",
       "  'content_id': 2556143,\n",
       "  'url': 'https://canvas.ubc.ca/api/v1/courses/14709/files/2556143'},\n",
       " {'id': 774448,\n",
       "  'title': '326-tut-0-2-review of combined loads and stresses.pdf',\n",
       "  'position': 8,\n",
       "  'indent': 0,\n",
       "  'type': 'File',\n",
       "  'module_id': 81996,\n",
       "  'html_url': 'https://canvas.ubc.ca/courses/14709/modules/items/774448',\n",
       "  'content_id': 2556144,\n",
       "  'url': 'https://canvas.ubc.ca/api/v1/courses/14709/files/2556144'},\n",
       " {'id': 774449,\n",
       "  'title': '326-tut-0-3-review of combined loads and stresses II.pdf',\n",
       "  'position': 9,\n",
       "  'indent': 0,\n",
       "  'type': 'File',\n",
       "  'module_id': 81996,\n",
       "  'html_url': 'https://canvas.ubc.ca/courses/14709/modules/items/774449',\n",
       "  'content_id': 2643502,\n",
       "  'url': 'https://canvas.ubc.ca/api/v1/courses/14709/files/2643502'},\n",
       " {'id': 774450,\n",
       "  'title': '326-tut-0-4-review of combined loads and stresses III.pdf',\n",
       "  'position': 10,\n",
       "  'indent': 0,\n",
       "  'type': 'File',\n",
       "  'module_id': 81996,\n",
       "  'html_url': 'https://canvas.ubc.ca/courses/14709/modules/items/774450',\n",
       "  'content_id': 2556147,\n",
       "  'url': 'https://canvas.ubc.ca/api/v1/courses/14709/files/2556147'}]"
      ]
     },
     "execution_count": 127,
     "metadata": {},
     "output_type": "execute_result"
    }
   ],
   "source": [
    "r2"
   ]
  },
  {
   "cell_type": "code",
   "execution_count": null,
   "metadata": {},
   "outputs": [],
   "source": []
  },
  {
   "cell_type": "code",
   "execution_count": null,
   "metadata": {},
   "outputs": [],
   "source": []
  },
  {
   "cell_type": "code",
   "execution_count": null,
   "metadata": {},
   "outputs": [],
   "source": []
  }
 ],
 "metadata": {
  "kernelspec": {
   "display_name": "Python 3",
   "language": "python",
   "name": "python3"
  },
  "language_info": {
   "codemirror_mode": {
    "name": "ipython",
    "version": 3
   },
   "file_extension": ".py",
   "mimetype": "text/x-python",
   "name": "python",
   "nbconvert_exporter": "python",
   "pygments_lexer": "ipython3",
   "version": "3.6.6"
  }
 },
 "nbformat": 4,
 "nbformat_minor": 2
}
